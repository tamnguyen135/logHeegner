{
 "cells": [
  {
   "cell_type": "code",
   "execution_count": 107,
   "id": "cd3c8b73-2ade-4197-91dd-7b22e9978b3a",
   "metadata": {},
   "outputs": [],
   "source": [
    "d = -7 # conductor of imaginary quadratic field\n",
    "p = 5\n",
    "c = p # conductor of Heenger point\n",
    "E = EllipticCurve('704g1')"
   ]
  },
  {
   "cell_type": "code",
   "execution_count": 108,
   "id": "a30a500b",
   "metadata": {
    "editable": true,
    "slideshow": {
     "slide_type": ""
    },
    "tags": []
   },
   "outputs": [],
   "source": [
    "P = E.heegner_point(d, c)\n",
    "P1 = P.point_exact()\n",
    "K_c = P1[0].parent() #K_c must be the ring class field of K of conductor c\n",
    "E = P1.curve()\n",
    "G = K_c.automorphisms()"
   ]
  },
  {
   "cell_type": "markdown",
   "id": "2461a9ca-3baa-4d8d-a5d8-d50d7e4ff50d",
   "metadata": {},
   "source": [
    "The following gives the squareroot of $d$ in terms of the generator of $K_c$"
   ]
  },
  {
   "cell_type": "code",
   "execution_count": 109,
   "id": "5d85cdbd-51b8-4bab-89c0-4fd950bee8b6",
   "metadata": {},
   "outputs": [],
   "source": [
    "s = K_c(d).sqrt() \n",
    "a = K_c.gen()"
   ]
  },
  {
   "cell_type": "markdown",
   "id": "acda588e-4747-46e2-b5c4-ae0b957227db",
   "metadata": {
    "editable": true,
    "jp-MarkdownHeadingCollapsed": true,
    "slideshow": {
     "slide_type": ""
    },
    "tags": []
   },
   "source": [
    "$G$ is the Galois group of the ring class field of $K$ of conductor $5$ over $\\mathbb{Q}$.\n",
    "For $c = 5, d = -7$, running len(G) should return $6$."
   ]
  },
  {
   "cell_type": "code",
   "execution_count": 110,
   "id": "7e22d91c-cdfd-430a-b043-738b43d4cd4b",
   "metadata": {},
   "outputs": [
    {
     "data": {
      "text/plain": [
       "6"
      ]
     },
     "execution_count": 110,
     "metadata": {},
     "output_type": "execute_result"
    }
   ],
   "source": [
    "K.<e> = NumberField(x**2 - d)\n",
    "O = K.order(c * e)\n",
    "O.class_number()"
   ]
  },
  {
   "cell_type": "code",
   "execution_count": 111,
   "id": "d02fd625-1a5f-4057-a6d1-02cc5ebfd0ca",
   "metadata": {
    "editable": true,
    "slideshow": {
     "slide_type": ""
    },
    "tags": []
   },
   "outputs": [
    {
     "data": {
      "text/plain": [
       "6"
      ]
     },
     "execution_count": 111,
     "metadata": {},
     "output_type": "execute_result"
    }
   ],
   "source": [
    "G_K = [sigma for sigma in G if sigma(s) == s]\n",
    "len(G_K)"
   ]
  },
  {
   "cell_type": "markdown",
   "id": "bd3f1970-dbe4-49d4-baf8-8055910296f6",
   "metadata": {},
   "source": [
    "The method below applies the automorphism sigma to the point pt $n$ times "
   ]
  },
  {
   "cell_type": "code",
   "execution_count": 112,
   "id": "08617f91",
   "metadata": {},
   "outputs": [],
   "source": [
    "def apply(sigma, pt, n):\n",
    "    E = pt.curve()\n",
    "    S = pt\n",
    "    for i in range(n):\n",
    "        S = E([sigma(c) for c in S])\n",
    "    return S"
   ]
  },
  {
   "cell_type": "markdown",
   "id": "549120c7-bddd-4b36-a171-17865a74d2ec",
   "metadata": {
    "jp-MarkdownHeadingCollapsed": true
   },
   "source": [
    "This is just to see G_K as an abstract group, since there's no provided method in Sage\n",
    "For $d = -7, c = p = 5$, one should see that the first element is the identity, the last element is the element of order $2$, and both the second and third elements are of order $3$."
   ]
  },
  {
   "cell_type": "code",
   "execution_count": 113,
   "id": "2a7bdff0-3a65-41ef-b4d6-4b008a780aa9",
   "metadata": {},
   "outputs": [
    {
     "name": "stdout",
     "output_type": "stream",
     "text": [
      "Elements of order 2 in Galois group: \n",
      "[True, False, False, False, False, True]\n",
      "Elements of order 3 in Galois group: \n",
      "[True, True, True, False, False, False]\n"
     ]
    }
   ],
   "source": [
    "print(\"Elements of order 2 in Galois group: \")\n",
    "print([sigma(sigma(a)) == a for sigma in G_K])\n",
    "print(\"Elements of order 3 in Galois group: \")\n",
    "print([sigma(sigma(sigma(a))) == a for sigma in G_K])"
   ]
  },
  {
   "cell_type": "code",
   "execution_count": 114,
   "id": "24f5f316",
   "metadata": {},
   "outputs": [],
   "source": [
    "x = polygen(ZZ, 'x')\n",
    "L = K_c.extension(x**2 + x + 1, 'b')\n",
    "b = L.gen()"
   ]
  },
  {
   "cell_type": "code",
   "execution_count": 115,
   "id": "cde9b8d6",
   "metadata": {},
   "outputs": [],
   "source": [
    "u = QQ.valuation(p)\n",
    "vL_p = u.extensions(L); v_p = vL_p[0]"
   ]
  },
  {
   "cell_type": "code",
   "execution_count": 116,
   "id": "a5599da1",
   "metadata": {},
   "outputs": [],
   "source": [
    "conj = [apply(sigma, P1, 1) for sigma in G_K]"
   ]
  },
  {
   "cell_type": "code",
   "execution_count": 117,
   "id": "57eff17f-6178-4b1a-b15b-a4ec10b455b0",
   "metadata": {},
   "outputs": [
    {
     "name": "stdout",
     "output_type": "stream",
     "text": [
      "Formal group of E:  t - 1/3*t^3 - 21/5*t^5 + 32/7*t^7 + 727/9*t^9 + O(t^10)\n"
     ]
    }
   ],
   "source": [
    "print(\"Formal group of E: \", E.formal_group().log(10))"
   ]
  },
  {
   "cell_type": "code",
   "execution_count": 118,
   "id": "9de200a5",
   "metadata": {},
   "outputs": [
    {
     "name": "stdout",
     "output_type": "stream",
     "text": [
      "5/6 5/6\n",
      "5/6 5/6\n",
      "5/6 5/6\n",
      "5/6 5/6\n",
      "5/6 5/6\n",
      "5/6 5/6\n"
     ]
    }
   ],
   "source": [
    "for Q in conj:\n",
    "    # print(Q.padic_elliptic_logarithm(p))\n",
    "    # r1 = -Q[0]/Q[1]\n",
    "    # This is so that Q5 lies in the formal group (with positive valuation for x/y).\n",
    "    Qp = p * Q\n",
    "    r = -Qp[0]/Qp[1]\n",
    "    # Lp = rp.parent()\n",
    "    # 5-adic valuation of the log of each conjugate\n",
    "    print(v_p(r), v_p(r- r**3/3 - (21*r**5)/5))"
   ]
  },
  {
   "cell_type": "code",
   "execution_count": 121,
   "id": "6ddd698a",
   "metadata": {},
   "outputs": [
    {
     "name": "stdout",
     "output_type": "stream",
     "text": [
      "13/6\n"
     ]
    }
   ],
   "source": [
    "tau2 = G_K[-1]\n",
    "tau3 = G_K[2]\n",
    "\n",
    "res = 0\n",
    "for i in range(2):\n",
    "    for j in range(3):\n",
    "        Q = apply(tau3, apply(tau2, P1, i), j)\n",
    "        Qp = (p) * Q\n",
    "        r = -Qp[0]/Qp[1]\n",
    "        res += (-1)**i * b**j * (r - r**3/3 - (21*r**5)/5)\n",
    "print(v_p(res) - 1)"
   ]
  }
 ],
 "metadata": {
  "kernelspec": {
   "display_name": "SageMath 9.5",
   "language": "sage",
   "name": "sagemath"
  },
  "language_info": {
   "codemirror_mode": {
    "name": "ipython",
    "version": 3
   },
   "file_extension": ".py",
   "mimetype": "text/x-python",
   "name": "python",
   "nbconvert_exporter": "python",
   "pygments_lexer": "ipython3",
   "version": "3.10.12"
  }
 },
 "nbformat": 4,
 "nbformat_minor": 5
}
